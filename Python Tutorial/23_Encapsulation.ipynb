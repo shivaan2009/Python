{
 "cells": [
  {
   "cell_type": "markdown",
   "id": "cb730f08",
   "metadata": {},
   "source": [
    "## Encapsulation In Python\n",
    "Encapsulation is a fundamental principle in object-oriented programming that focuses on bundling data and the methods that operate on that data into a single unit called a class. It allows you to control the access and visibility of the data and methods, providing a way to protect and organize your code"
   ]
  },
  {
   "cell_type": "code",
   "execution_count": 2,
   "id": "1e118444",
   "metadata": {},
   "outputs": [],
   "source": [
    "## Access Modifier ---> Encapsulation\n",
    "## Private\n",
    "class Person:\n",
    "    #constructor\n",
    "    def __init__(self,name,age):\n",
    "        self.__name = name ## __ is private variable\n",
    "        self.__age = age\n",
    "    \n",
    "    def display_info(self):\n",
    "        print(f\"The person name is {self.__name} and the age is {self.__age}\")"
   ]
  },
  {
   "cell_type": "code",
   "execution_count": 4,
   "id": "308c1d14",
   "metadata": {},
   "outputs": [],
   "source": [
    "person = Person(\"Shivaan\",'21')"
   ]
  },
  {
   "cell_type": "code",
   "execution_count": 7,
   "id": "eb7880b9",
   "metadata": {},
   "outputs": [
    {
     "data": {
      "text/plain": [
       "'21'"
      ]
     },
     "execution_count": 7,
     "metadata": {},
     "output_type": "execute_result"
    }
   ],
   "source": [
    "(person._Person__age) # not good practice"
   ]
  },
  {
   "cell_type": "code",
   "execution_count": 8,
   "id": "be05b24a",
   "metadata": {},
   "outputs": [
    {
     "name": "stdout",
     "output_type": "stream",
     "text": [
      "The person name is Shivaan and the age is 21\n"
     ]
    }
   ],
   "source": [
    "person.display_info()"
   ]
  },
  {
   "cell_type": "code",
   "execution_count": 9,
   "id": "2038dd7c",
   "metadata": {},
   "outputs": [],
   "source": [
    "## Access Modifier ---> Encapsulation\n",
    "## Protected - used only in derived class\n",
    "class Person:\n",
    "    #constructor\n",
    "    def __init__(self,name,age):\n",
    "        self._name = name ## _ is protected variable\n",
    "        self._age = age\n",
    "    \n",
    "    def display_info(self):\n",
    "        print(f\"The person name is {self._name} and the age is {self._age}\")"
   ]
  },
  {
   "cell_type": "code",
   "execution_count": 10,
   "id": "963e5168",
   "metadata": {},
   "outputs": [],
   "source": [
    "person = Person(\"Shivaan\",\"21\")"
   ]
  },
  {
   "cell_type": "code",
   "execution_count": 12,
   "id": "d1fa552f",
   "metadata": {},
   "outputs": [
    {
     "data": {
      "text/plain": [
       "'21'"
      ]
     },
     "execution_count": 12,
     "metadata": {},
     "output_type": "execute_result"
    }
   ],
   "source": [
    "dir(person)\n",
    "person._age"
   ]
  },
  {
   "cell_type": "code",
   "execution_count": 13,
   "id": "0266c8cd",
   "metadata": {},
   "outputs": [],
   "source": [
    "class Student(Person):\n",
    "    def __init__(self,name,age):\n",
    "        super().__init__(name,age)\n",
    "    \n",
    "    def display_info(self):\n",
    "        print(f\"The person name is {self._name} and the age is {self._age}\")\n",
    "        "
   ]
  },
  {
   "cell_type": "code",
   "execution_count": 14,
   "id": "eb81c2a3",
   "metadata": {},
   "outputs": [],
   "source": [
    "student1=Student(\"Shivaan\",'21')"
   ]
  },
  {
   "cell_type": "code",
   "execution_count": 15,
   "id": "7940287d",
   "metadata": {},
   "outputs": [
    {
     "name": "stdout",
     "output_type": "stream",
     "text": [
      "The person name is Shivaan and the age is 21\n"
     ]
    }
   ],
   "source": [
    "student1.display_info()"
   ]
  },
  {
   "cell_type": "code",
   "execution_count": 16,
   "id": "6898ccef",
   "metadata": {},
   "outputs": [],
   "source": [
    "## Access Modifier ---> Encapsulation\n",
    "## Public\n",
    "class Person:\n",
    "    #constructor\n",
    "    def __init__(self,name,age):\n",
    "        self.name = name ## __ is private variable\n",
    "        self.age = age"
   ]
  },
  {
   "cell_type": "code",
   "execution_count": null,
   "id": "d9f2e2e5",
   "metadata": {},
   "outputs": [],
   "source": []
  }
 ],
 "metadata": {
  "kernelspec": {
   "display_name": "Python 3 (ipykernel)",
   "language": "python",
   "name": "python3"
  },
  "language_info": {
   "codemirror_mode": {
    "name": "ipython",
    "version": 3
   },
   "file_extension": ".py",
   "mimetype": "text/x-python",
   "name": "python",
   "nbconvert_exporter": "python",
   "pygments_lexer": "ipython3",
   "version": "3.9.13"
  }
 },
 "nbformat": 4,
 "nbformat_minor": 5
}
