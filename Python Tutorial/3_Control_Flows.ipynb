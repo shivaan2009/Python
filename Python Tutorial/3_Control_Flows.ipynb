{
 "cells": [
  {
   "cell_type": "code",
   "execution_count": 12,
   "id": "5abd7aa4",
   "metadata": {},
   "outputs": [
    {
     "name": "stdout",
     "output_type": "stream",
     "text": [
      "Enter the number: 104\n",
      "The number is greater than 100\n"
     ]
    }
   ],
   "source": [
    "# if statement\n",
    "\n",
    "value = input('Enter the number: ')\n",
    "value_float = float(value)\n",
    "if value_float > 100:\n",
    "    print('The number is greater than 100')"
   ]
  },
  {
   "cell_type": "code",
   "execution_count": 13,
   "id": "b0afed89",
   "metadata": {},
   "outputs": [
    {
     "name": "stdout",
     "output_type": "stream",
     "text": [
      "Enter the number: 24\n",
      "The number is even\n"
     ]
    }
   ],
   "source": [
    "# if-else statement\n",
    "value = input('Enter the number: ')\n",
    "value_float = float(value)\n",
    "if value_float%2 == 0:\n",
    "    print('The number is even')\n",
    "else:\n",
    "    print('The number is odd')"
   ]
  },
  {
   "cell_type": "code",
   "execution_count": 17,
   "id": "b7ad9a09",
   "metadata": {},
   "outputs": [
    {
     "name": "stdout",
     "output_type": "stream",
     "text": [
      "Enter the age: 51\n",
      "Senior Citizen\n"
     ]
    }
   ],
   "source": [
    "# age form\n",
    "# nested if else\n",
    "age = float(input('Enter the age: '))\n",
    "if age < 18:\n",
    "    print('Minor age')\n",
    "elif (age>=18 and age<=45):\n",
    "    print('Mid age')\n",
    "elif (age>45 and age<=50):\n",
    "    print('Senior Mid Age')\n",
    "else:\n",
    "    print('Senior Citizen')\n"
   ]
  },
  {
   "cell_type": "code",
   "execution_count": 19,
   "id": "f1fc977a",
   "metadata": {},
   "outputs": [
    {
     "name": "stdout",
     "output_type": "stream",
     "text": [
      "Enter the age: 17\n",
      "Minor age\n",
      "You are in college\n"
     ]
    }
   ],
   "source": [
    "# nested if-else\n",
    "age = float(input('Enter the age: '))\n",
    "if age < 18:\n",
    "    print('Minor age')\n",
    "    if(age<15):\n",
    "        print('You are in school')\n",
    "    else:\n",
    "        print('You are in college')\n",
    "elif (age>=18 and age<=45):\n",
    "    print('Mid age')\n",
    "elif (age>45 and age<=50):\n",
    "    print('Senior Mid Age')\n",
    "else:\n",
    "    print('Senior Citizen')"
   ]
  },
  {
   "cell_type": "code",
   "execution_count": 21,
   "id": "3b5ad95a",
   "metadata": {},
   "outputs": [
    {
     "name": "stdout",
     "output_type": "stream",
     "text": [
      "1\n",
      "4\n",
      "9\n",
      "16\n",
      "25\n",
      "36\n",
      "49\n"
     ]
    }
   ],
   "source": [
    "## Loops statement\n",
    "## for loop, while loop\n",
    "lst = [1,2,3,4,5,6,7]\n",
    "for i in lst:\n",
    "    print(i**2)"
   ]
  },
  {
   "cell_type": "code",
   "execution_count": 22,
   "id": "b1c78eab",
   "metadata": {},
   "outputs": [
    {
     "name": "stdout",
     "output_type": "stream",
     "text": [
      "28\n"
     ]
    }
   ],
   "source": [
    "# find sum of all elements\n",
    "lst = [1,2,3,4,5,6,7]\n",
    "sum1 = 0\n",
    "for i in lst:\n",
    "    sum1 = sum1+i\n",
    "print(sum1)"
   ]
  },
  {
   "cell_type": "code",
   "execution_count": 23,
   "id": "82a9cf08",
   "metadata": {},
   "outputs": [
    {
     "name": "stdout",
     "output_type": "stream",
     "text": [
      "Even sum is 12\n",
      "Odd sum is 16\n"
     ]
    }
   ],
   "source": [
    "# sum of even and odd number\n",
    "lst = [1,2,3,4,5,6,7]\n",
    "even_sum = 0\n",
    "odd_sum = 0\n",
    "\n",
    "\n",
    "for i in lst:\n",
    "    if(i%2==0):\n",
    "        even_sum = even_sum + i\n",
    "    else:\n",
    "        odd_sum = odd_sum + i\n",
    "print('Even sum is {}'.format(even_sum))\n",
    "print('Odd sum is {}'.format(odd_sum))"
   ]
  },
  {
   "cell_type": "code",
   "execution_count": 29,
   "id": "0d0b8a46",
   "metadata": {},
   "outputs": [
    {
     "name": "stdout",
     "output_type": "stream",
     "text": [
      "Even sum is 30\n",
      "Odd sum is 25\n"
     ]
    }
   ],
   "source": [
    "## while condition\n",
    "i = 0\n",
    "even_sum = 0\n",
    "odd_sum = 0\n",
    "while(i<=10):\n",
    "    if(i%2==0):\n",
    "        even_sum = even_sum + i\n",
    "    else:\n",
    "        odd_sum = odd_sum + i\n",
    "    i=i+1\n",
    "print('Even sum is {}'.format(even_sum))\n",
    "print('Odd sum is {}'.format(odd_sum))"
   ]
  },
  {
   "cell_type": "code",
   "execution_count": 32,
   "id": "e65142d7",
   "metadata": {},
   "outputs": [
    {
     "name": "stdout",
     "output_type": "stream",
     "text": [
      "1\n",
      "2\n",
      "3\n"
     ]
    }
   ],
   "source": [
    "# break\n",
    "x = 1\n",
    "while(x<7):\n",
    "    \n",
    "    if x == 4:\n",
    "        break\n",
    "    print(x)   \n",
    "        \n",
    "    x=x+1"
   ]
  },
  {
   "cell_type": "code",
   "execution_count": null,
   "id": "edda4ca8",
   "metadata": {},
   "outputs": [],
   "source": [
    "# continue"
   ]
  },
  {
   "cell_type": "code",
   "execution_count": 33,
   "id": "69b4093d",
   "metadata": {},
   "outputs": [
    {
     "name": "stdout",
     "output_type": "stream",
     "text": [
      "1\n",
      "2\n",
      "3\n",
      "5\n",
      "6\n",
      "7\n"
     ]
    }
   ],
   "source": [
    "x = 0\n",
    "while x <7:\n",
    "    x=x+1\n",
    "    if x==4:\n",
    "        continue\n",
    "    print(x)\n",
    "    "
   ]
  },
  {
   "cell_type": "code",
   "execution_count": 40,
   "id": "39ed9528",
   "metadata": {},
   "outputs": [
    {
     "name": "stdout",
     "output_type": "stream",
     "text": [
      "Enter the number: 1\n",
      "The number is positive\n",
      "The number is zero\n"
     ]
    }
   ],
   "source": [
    "# practice questions\n",
    "# Write a Python program that checks whether a number is positive, negative, or zero.\n",
    "value = input('Enter the number: ')\n",
    "value_float = int(value)\n",
    "if value_float >= 1:\n",
    "    print('The number is positive')\n",
    "if value_float <= -1:\n",
    "    print('The number is negative')\n",
    "else:\n",
    "    print('The number is zero')\n",
    "    "
   ]
  },
  {
   "cell_type": "code",
   "execution_count": 46,
   "id": "7804a57a",
   "metadata": {},
   "outputs": [
    {
     "name": "stdout",
     "output_type": "stream",
     "text": [
      "Enter the year: 300\n",
      "Not a Leap Year\n"
     ]
    }
   ],
   "source": [
    "# Create a program that determines whether a given year is a leap year or not. \n",
    "#(Hint: A leap year is divisible by 4, but not every year divisible by 100 is a leap year, except those divisible by 400.)\n",
    "value = input('Enter the year: ')\n",
    "value_int = int(value)\n",
    "if value_int % 4 == 0 and value_int % 100 != 0:\n",
    "    if value % 400 == 0:\n",
    "        print('It is a Leap Year')\n",
    "else:\n",
    "    print(\"Not a Leap Year\")"
   ]
  },
  {
   "cell_type": "code",
   "execution_count": 48,
   "id": "b6980300",
   "metadata": {},
   "outputs": [
    {
     "name": "stdout",
     "output_type": "stream",
     "text": [
      "1\n",
      "2\n",
      "3\n",
      "4\n",
      "5\n",
      "6\n",
      "7\n",
      "8\n",
      "9\n",
      "10\n"
     ]
    }
   ],
   "source": [
    "#Write a Python program that prints the first 10 natural numbers using a for loop.\n",
    "for i in range(1, 11):\n",
    "    print(i)"
   ]
  },
  {
   "cell_type": "code",
   "execution_count": 49,
   "id": "9500fad7",
   "metadata": {},
   "outputs": [
    {
     "name": "stdout",
     "output_type": "stream",
     "text": [
      "1\n",
      "4\n",
      "9\n",
      "16\n",
      "25\n",
      "36\n",
      "49\n"
     ]
    }
   ],
   "source": [
    "#Create a Python program that takes a list of numbers and prints each number squared.\n",
    "lst = [1,2,3,4,5,6,7]\n",
    "for i in lst:\n",
    "    print(i**2)"
   ]
  },
  {
   "cell_type": "code",
   "execution_count": 52,
   "id": "3da2efc5",
   "metadata": {},
   "outputs": [
    {
     "name": "stdout",
     "output_type": "stream",
     "text": [
      "2\n",
      "4\n",
      "6\n",
      "8\n",
      "10\n",
      "12\n",
      "14\n",
      "16\n",
      "18\n",
      "20\n"
     ]
    }
   ],
   "source": [
    "#Use a for loop with the range() function to print all even numbers between 1 and 20.\n",
    "for i in range(1, 21):\n",
    "    if i%2 == 0:\n",
    "        print(i)"
   ]
  },
  {
   "cell_type": "code",
   "execution_count": null,
   "id": "4c7fd6b3",
   "metadata": {},
   "outputs": [],
   "source": []
  }
 ],
 "metadata": {
  "kernelspec": {
   "display_name": "Python 3 (ipykernel)",
   "language": "python",
   "name": "python3"
  },
  "language_info": {
   "codemirror_mode": {
    "name": "ipython",
    "version": 3
   },
   "file_extension": ".py",
   "mimetype": "text/x-python",
   "name": "python",
   "nbconvert_exporter": "python",
   "pygments_lexer": "ipython3",
   "version": "3.9.13"
  }
 },
 "nbformat": 4,
 "nbformat_minor": 5
}
