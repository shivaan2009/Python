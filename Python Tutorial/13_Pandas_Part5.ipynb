{
 "cells": [
  {
   "cell_type": "markdown",
   "id": "c07548bb",
   "metadata": {},
   "source": [
    "## Python Pandas Working With XML Tutorials- Part 5\n",
    "* Read XML and get Dataframe\n",
    "* Convert Dataframe to XML\n",
    "\n",
    "What is XML?\n",
    "\n",
    "* XML stands for eXtensible Markup Language\n",
    "* XML is a markup language much like HTML\n",
    "* XML was designed to store and transport data\n",
    "* XML was designed to be self-descriptive\n",
    "* XML is a W3C Recommendation"
   ]
  },
  {
   "cell_type": "code",
   "execution_count": 2,
   "id": "4aefd8b3",
   "metadata": {},
   "outputs": [],
   "source": [
    "import pandas as pd"
   ]
  },
  {
   "cell_type": "code",
   "execution_count": 4,
   "id": "2519b6e4",
   "metadata": {},
   "outputs": [
    {
     "data": {
      "text/html": [
       "<div>\n",
       "<style scoped>\n",
       "    .dataframe tbody tr th:only-of-type {\n",
       "        vertical-align: middle;\n",
       "    }\n",
       "\n",
       "    .dataframe tbody tr th {\n",
       "        vertical-align: top;\n",
       "    }\n",
       "\n",
       "    .dataframe thead th {\n",
       "        text-align: right;\n",
       "    }\n",
       "</style>\n",
       "<table border=\"1\" class=\"dataframe\">\n",
       "  <thead>\n",
       "    <tr style=\"text-align: right;\">\n",
       "      <th></th>\n",
       "      <th>name</th>\n",
       "      <th>age</th>\n",
       "      <th>email</th>\n",
       "      <th>title</th>\n",
       "      <th>author</th>\n",
       "      <th>year</th>\n",
       "    </tr>\n",
       "  </thead>\n",
       "  <tbody>\n",
       "    <tr>\n",
       "      <th>0</th>\n",
       "      <td>John Doe</td>\n",
       "      <td>30.0</td>\n",
       "      <td>john.doe@example.com</td>\n",
       "      <td>None</td>\n",
       "      <td>None</td>\n",
       "      <td>NaN</td>\n",
       "    </tr>\n",
       "    <tr>\n",
       "      <th>1</th>\n",
       "      <td>Jane Smith</td>\n",
       "      <td>25.0</td>\n",
       "      <td>jane.smith@example.com</td>\n",
       "      <td>None</td>\n",
       "      <td>None</td>\n",
       "      <td>NaN</td>\n",
       "    </tr>\n",
       "    <tr>\n",
       "      <th>2</th>\n",
       "      <td>None</td>\n",
       "      <td>NaN</td>\n",
       "      <td>None</td>\n",
       "      <td>The Adventure Begins</td>\n",
       "      <td>Robert Johnson</td>\n",
       "      <td>2022.0</td>\n",
       "    </tr>\n",
       "  </tbody>\n",
       "</table>\n",
       "</div>"
      ],
      "text/plain": [
       "         name   age                   email                 title  \\\n",
       "0    John Doe  30.0    john.doe@example.com                  None   \n",
       "1  Jane Smith  25.0  jane.smith@example.com                  None   \n",
       "2        None   NaN                    None  The Adventure Begins   \n",
       "\n",
       "           author    year  \n",
       "0            None     NaN  \n",
       "1            None     NaN  \n",
       "2  Robert Johnson  2022.0  "
      ]
     },
     "execution_count": 4,
     "metadata": {},
     "output_type": "execute_result"
    }
   ],
   "source": [
    "pd.read_xml('test.xml')"
   ]
  },
  {
   "cell_type": "code",
   "execution_count": 5,
   "id": "681affb0",
   "metadata": {},
   "outputs": [],
   "source": [
    "xml = '''<?xml version='1.0' encoding='utf-8'?>\n",
    "<doc:data xmlns:doc=\"https://example.com\">\n",
    "  <doc:row>\n",
    "    <doc:shape>square</doc:shape>\n",
    "    <doc:degrees>360</doc:degrees>\n",
    "    <doc:sides>4.0</doc:sides>\n",
    "  </doc:row>\n",
    "  <doc:row>\n",
    "    <doc:shape>circle</doc:shape>\n",
    "    <doc:degrees>360</doc:degrees>\n",
    "    <doc:sides/>\n",
    "  </doc:row>\n",
    "  <doc:row>\n",
    "    <doc:shape>triangle</doc:shape>\n",
    "    <doc:degrees>180</doc:degrees>\n",
    "    <doc:sides>3.0</doc:sides>\n",
    "  </doc:row>\n",
    "</doc:data>'''"
   ]
  },
  {
   "cell_type": "code",
   "execution_count": 10,
   "id": "2922bf9d",
   "metadata": {},
   "outputs": [],
   "source": [
    "df = pd.read_xml(xml,xpath=\".//doc:row\",namespaces={\"doc\":\"https://example.com\"})"
   ]
  },
  {
   "cell_type": "code",
   "execution_count": 11,
   "id": "ad0a259d",
   "metadata": {},
   "outputs": [],
   "source": [
    "df.to_xml('test1.xml')"
   ]
  },
  {
   "cell_type": "code",
   "execution_count": null,
   "id": "8f58eaaf",
   "metadata": {},
   "outputs": [],
   "source": []
  }
 ],
 "metadata": {
  "kernelspec": {
   "display_name": "Python 3 (ipykernel)",
   "language": "python",
   "name": "python3"
  },
  "language_info": {
   "codemirror_mode": {
    "name": "ipython",
    "version": 3
   },
   "file_extension": ".py",
   "mimetype": "text/x-python",
   "name": "python",
   "nbconvert_exporter": "python",
   "pygments_lexer": "ipython3",
   "version": "3.9.13"
  }
 },
 "nbformat": 4,
 "nbformat_minor": 5
}
