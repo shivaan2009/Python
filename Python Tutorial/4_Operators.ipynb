{
 "cells": [
  {
   "cell_type": "markdown",
   "id": "459f02e2",
   "metadata": {},
   "source": [
    "# Python Operators\n",
    "* Logical\n",
    "* Equality\n",
    "* Comparision\n",
    "* Arithmetic"
   ]
  },
  {
   "cell_type": "code",
   "execution_count": 1,
   "id": "65233dc5",
   "metadata": {},
   "outputs": [],
   "source": [
    "# Logical Operators\n",
    "# not\n",
    "# and \n",
    "# or"
   ]
  },
  {
   "cell_type": "code",
   "execution_count": 3,
   "id": "4a009f13",
   "metadata": {},
   "outputs": [
    {
     "data": {
      "text/plain": [
       "bool"
      ]
     },
     "execution_count": 3,
     "metadata": {},
     "output_type": "execute_result"
    }
   ],
   "source": [
    "type(True)"
   ]
  },
  {
   "cell_type": "code",
   "execution_count": 4,
   "id": "48d94770",
   "metadata": {},
   "outputs": [
    {
     "data": {
      "text/plain": [
       "True"
      ]
     },
     "execution_count": 4,
     "metadata": {},
     "output_type": "execute_result"
    }
   ],
   "source": [
    "bool(1)"
   ]
  },
  {
   "cell_type": "code",
   "execution_count": 5,
   "id": "4173033d",
   "metadata": {},
   "outputs": [],
   "source": [
    "a = True\n",
    "b = False"
   ]
  },
  {
   "cell_type": "code",
   "execution_count": 6,
   "id": "ad0fd866",
   "metadata": {},
   "outputs": [
    {
     "data": {
      "text/plain": [
       "False"
      ]
     },
     "execution_count": 6,
     "metadata": {},
     "output_type": "execute_result"
    }
   ],
   "source": [
    "a and b"
   ]
  },
  {
   "cell_type": "code",
   "execution_count": 7,
   "id": "ea9d4b63",
   "metadata": {},
   "outputs": [
    {
     "data": {
      "text/plain": [
       "True"
      ]
     },
     "execution_count": 7,
     "metadata": {},
     "output_type": "execute_result"
    }
   ],
   "source": [
    "a or b"
   ]
  },
  {
   "cell_type": "code",
   "execution_count": 8,
   "id": "84795cfc",
   "metadata": {},
   "outputs": [
    {
     "data": {
      "text/plain": [
       "False"
      ]
     },
     "execution_count": 8,
     "metadata": {},
     "output_type": "execute_result"
    }
   ],
   "source": [
    "not a"
   ]
  },
  {
   "cell_type": "code",
   "execution_count": 11,
   "id": "e4b52cf2",
   "metadata": {},
   "outputs": [
    {
     "name": "stdout",
     "output_type": "stream",
     "text": [
      "Enter the age: 16\n",
      "successful execution\n"
     ]
    }
   ],
   "source": [
    "age = int(input('Enter the age: '))\n",
    "if age < 18 or age >= 35:\n",
    "    print('successful execution')"
   ]
  },
  {
   "cell_type": "code",
   "execution_count": 12,
   "id": "38d4cbb4",
   "metadata": {},
   "outputs": [],
   "source": [
    "# Equality Operator\n",
    "# is\n",
    "# is not\n",
    "# ==\n",
    "# !="
   ]
  },
  {
   "cell_type": "code",
   "execution_count": 13,
   "id": "4052fb02",
   "metadata": {},
   "outputs": [
    {
     "data": {
      "text/plain": [
       "True"
      ]
     },
     "execution_count": 13,
     "metadata": {},
     "output_type": "execute_result"
    }
   ],
   "source": [
    "a = 'Shivaan'\n",
    "b = 'Shivaan'\n",
    "\n",
    "a==b"
   ]
  },
  {
   "cell_type": "code",
   "execution_count": 15,
   "id": "977fbbe9",
   "metadata": {},
   "outputs": [
    {
     "name": "stdout",
     "output_type": "stream",
     "text": [
      "Enter the age: 17\n"
     ]
    }
   ],
   "source": [
    "age = int(input('Enter the age: '))\n",
    "if age ==18:\n",
    "    print('You are teenager')"
   ]
  },
  {
   "cell_type": "code",
   "execution_count": 17,
   "id": "f83d823c",
   "metadata": {},
   "outputs": [
    {
     "name": "stdout",
     "output_type": "stream",
     "text": [
      "2958473069296\n",
      "2958473069296\n"
     ]
    }
   ],
   "source": [
    "a = 'Shivaan'\n",
    "b = 'Shivaan'\n",
    "print(id(a))\n",
    "print(id(b))"
   ]
  },
  {
   "cell_type": "code",
   "execution_count": 18,
   "id": "dbc29a55",
   "metadata": {},
   "outputs": [
    {
     "data": {
      "text/plain": [
       "True"
      ]
     },
     "execution_count": 18,
     "metadata": {},
     "output_type": "execute_result"
    }
   ],
   "source": [
    "a is b"
   ]
  },
  {
   "cell_type": "code",
   "execution_count": 21,
   "id": "f458ae45",
   "metadata": {},
   "outputs": [
    {
     "name": "stdout",
     "output_type": "stream",
     "text": [
      "2958473598464\n",
      "2958473922240\n"
     ]
    }
   ],
   "source": [
    "lst = [1,2,3]\n",
    "lst2 = [1,2,3]\n",
    "print(id(lst))\n",
    "print(id(lst2))"
   ]
  },
  {
   "cell_type": "code",
   "execution_count": 22,
   "id": "4b1942e8",
   "metadata": {},
   "outputs": [
    {
     "data": {
      "text/plain": [
       "True"
      ]
     },
     "execution_count": 22,
     "metadata": {},
     "output_type": "execute_result"
    }
   ],
   "source": [
    "lst == lst2"
   ]
  },
  {
   "cell_type": "code",
   "execution_count": 23,
   "id": "4f70cf34",
   "metadata": {},
   "outputs": [
    {
     "data": {
      "text/plain": [
       "False"
      ]
     },
     "execution_count": 23,
     "metadata": {},
     "output_type": "execute_result"
    }
   ],
   "source": [
    "lst is lst2"
   ]
  },
  {
   "cell_type": "code",
   "execution_count": 24,
   "id": "223ad459",
   "metadata": {},
   "outputs": [
    {
     "data": {
      "text/plain": [
       "True"
      ]
     },
     "execution_count": 24,
     "metadata": {},
     "output_type": "execute_result"
    }
   ],
   "source": [
    "lst is not lst2"
   ]
  },
  {
   "cell_type": "code",
   "execution_count": 25,
   "id": "51375883",
   "metadata": {},
   "outputs": [
    {
     "data": {
      "text/plain": [
       "True"
      ]
     },
     "execution_count": 25,
     "metadata": {},
     "output_type": "execute_result"
    }
   ],
   "source": [
    "'Shivaan' != 'Shivaan2'"
   ]
  },
  {
   "cell_type": "code",
   "execution_count": 26,
   "id": "07d61c26",
   "metadata": {},
   "outputs": [],
   "source": [
    "# Comaprison Operators \n",
    "# <\n",
    "# <=\n",
    "# >\n",
    "# >="
   ]
  },
  {
   "cell_type": "code",
   "execution_count": 27,
   "id": "82255842",
   "metadata": {},
   "outputs": [
    {
     "name": "stdout",
     "output_type": "stream",
     "text": [
      "Enter the age: 60\n",
      "Pass\n",
      "First Class\n"
     ]
    }
   ],
   "source": [
    "marks = float(input('Enter the age: '))\n",
    "if marks>35:\n",
    "    print('Pass')\n",
    "    if marks>=50 and marks <=70:\n",
    "        print('First Class')\n",
    "elif marks<35:\n",
    "    print('Fail')\n",
    "    "
   ]
  },
  {
   "cell_type": "code",
   "execution_count": 28,
   "id": "0f287f42",
   "metadata": {},
   "outputs": [],
   "source": [
    "# Arithmetic Operator\n",
    "# +\n",
    "# -\n",
    "# *\n",
    "# /\n",
    "# // - integer division\n",
    "# %"
   ]
  },
  {
   "cell_type": "code",
   "execution_count": 29,
   "id": "8cf2ec1b",
   "metadata": {},
   "outputs": [
    {
     "data": {
      "text/plain": [
       "48"
      ]
     },
     "execution_count": 29,
     "metadata": {},
     "output_type": "execute_result"
    }
   ],
   "source": [
    "24+24"
   ]
  },
  {
   "cell_type": "code",
   "execution_count": 30,
   "id": "5a3b5ed8",
   "metadata": {},
   "outputs": [
    {
     "data": {
      "text/plain": [
       "80"
      ]
     },
     "execution_count": 30,
     "metadata": {},
     "output_type": "execute_result"
    }
   ],
   "source": [
    "20*4"
   ]
  },
  {
   "cell_type": "code",
   "execution_count": 31,
   "id": "3b08908f",
   "metadata": {},
   "outputs": [
    {
     "data": {
      "text/plain": [
       "16"
      ]
     },
     "execution_count": 31,
     "metadata": {},
     "output_type": "execute_result"
    }
   ],
   "source": [
    "24-8"
   ]
  },
  {
   "cell_type": "code",
   "execution_count": 32,
   "id": "8d699099",
   "metadata": {},
   "outputs": [
    {
     "data": {
      "text/plain": [
       "12.0"
      ]
     },
     "execution_count": 32,
     "metadata": {},
     "output_type": "execute_result"
    }
   ],
   "source": [
    "48/4"
   ]
  },
  {
   "cell_type": "code",
   "execution_count": 33,
   "id": "f34d0fc1",
   "metadata": {},
   "outputs": [
    {
     "data": {
      "text/plain": [
       "9"
      ]
     },
     "execution_count": 33,
     "metadata": {},
     "output_type": "execute_result"
    }
   ],
   "source": [
    "48//5"
   ]
  },
  {
   "cell_type": "code",
   "execution_count": 36,
   "id": "a99a5cdb",
   "metadata": {},
   "outputs": [
    {
     "data": {
      "text/plain": [
       "3"
      ]
     },
     "execution_count": 36,
     "metadata": {},
     "output_type": "execute_result"
    }
   ],
   "source": [
    "48%5"
   ]
  },
  {
   "cell_type": "code",
   "execution_count": null,
   "id": "2a2e737e",
   "metadata": {},
   "outputs": [],
   "source": []
  }
 ],
 "metadata": {
  "kernelspec": {
   "display_name": "Python 3 (ipykernel)",
   "language": "python",
   "name": "python3"
  },
  "language_info": {
   "codemirror_mode": {
    "name": "ipython",
    "version": 3
   },
   "file_extension": ".py",
   "mimetype": "text/x-python",
   "name": "python",
   "nbconvert_exporter": "python",
   "pygments_lexer": "ipython3",
   "version": "3.9.13"
  }
 },
 "nbformat": 4,
 "nbformat_minor": 5
}
