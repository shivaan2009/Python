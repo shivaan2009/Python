{
 "cells": [
  {
   "cell_type": "markdown",
   "id": "820ba307",
   "metadata": {},
   "source": [
    "# Number Methods"
   ]
  },
  {
   "cell_type": "markdown",
   "id": "1991a95d",
   "metadata": {},
   "source": [
    "## abs() - abs(x) will return the absolute value of a number x which we pass in argument. The number x can be integer, float, complex,.."
   ]
  },
  {
   "cell_type": "code",
   "execution_count": 1,
   "id": "4c34c11b",
   "metadata": {},
   "outputs": [
    {
     "data": {
      "text/plain": [
       "3"
      ]
     },
     "execution_count": 1,
     "metadata": {},
     "output_type": "execute_result"
    }
   ],
   "source": [
    "1+2"
   ]
  },
  {
   "cell_type": "code",
   "execution_count": 2,
   "id": "6271085d",
   "metadata": {},
   "outputs": [
    {
     "data": {
      "text/plain": [
       "10"
      ]
     },
     "execution_count": 2,
     "metadata": {},
     "output_type": "execute_result"
    }
   ],
   "source": [
    "# abosolute method\n",
    "abs(10)"
   ]
  },
  {
   "cell_type": "code",
   "execution_count": 3,
   "id": "bdfb7b83",
   "metadata": {},
   "outputs": [
    {
     "data": {
      "text/plain": [
       "20"
      ]
     },
     "execution_count": 3,
     "metadata": {},
     "output_type": "execute_result"
    }
   ],
   "source": [
    "abs(-20)"
   ]
  },
  {
   "cell_type": "code",
   "execution_count": 4,
   "id": "40be12d0",
   "metadata": {},
   "outputs": [
    {
     "data": {
      "text/plain": [
       "34.2"
      ]
     },
     "execution_count": 4,
     "metadata": {},
     "output_type": "execute_result"
    }
   ],
   "source": [
    "abs(34.20)"
   ]
  },
  {
   "cell_type": "code",
   "execution_count": 5,
   "id": "4b2d23eb",
   "metadata": {},
   "outputs": [
    {
     "data": {
      "text/plain": [
       "55.03"
      ]
     },
     "execution_count": 5,
     "metadata": {},
     "output_type": "execute_result"
    }
   ],
   "source": [
    "abs(-55.03)"
   ]
  },
  {
   "cell_type": "markdown",
   "id": "7e2683e3",
   "metadata": {},
   "source": [
    "## ceil()\n",
    "ceil(x) will return the ceiling value of a number x which we pass in argument. The ceiling value of a number x will be the smallest integer not less than x\n",
    "\n",
    "Note :- This function will not be accessible directly using ceil() method. Math module will be required to access this method."
   ]
  },
  {
   "cell_type": "code",
   "execution_count": 1,
   "id": "ee014b93",
   "metadata": {},
   "outputs": [],
   "source": [
    "import math"
   ]
  },
  {
   "cell_type": "code",
   "execution_count": 3,
   "id": "3371b707",
   "metadata": {},
   "outputs": [
    {
     "data": {
      "text/plain": [
       "44"
      ]
     },
     "execution_count": 3,
     "metadata": {},
     "output_type": "execute_result"
    }
   ],
   "source": [
    "math.ceil(43.67)"
   ]
  },
  {
   "cell_type": "code",
   "execution_count": 4,
   "id": "20db0179",
   "metadata": {},
   "outputs": [
    {
     "data": {
      "text/plain": [
       "44"
      ]
     },
     "execution_count": 4,
     "metadata": {},
     "output_type": "execute_result"
    }
   ],
   "source": [
    "math.ceil(43.3)"
   ]
  },
  {
   "cell_type": "code",
   "execution_count": 6,
   "id": "506d1335",
   "metadata": {},
   "outputs": [
    {
     "data": {
      "text/plain": [
       "43"
      ]
     },
     "execution_count": 6,
     "metadata": {},
     "output_type": "execute_result"
    }
   ],
   "source": [
    "math.ceil(42.1)"
   ]
  },
  {
   "cell_type": "code",
   "execution_count": 7,
   "id": "f174a9c6",
   "metadata": {},
   "outputs": [
    {
     "data": {
      "text/plain": [
       "-44"
      ]
     },
     "execution_count": 7,
     "metadata": {},
     "output_type": "execute_result"
    }
   ],
   "source": [
    "math.ceil(-44.5)"
   ]
  },
  {
   "cell_type": "markdown",
   "id": "e0acec50",
   "metadata": {},
   "source": [
    "## Floor"
   ]
  },
  {
   "cell_type": "code",
   "execution_count": 9,
   "id": "a8b37856",
   "metadata": {},
   "outputs": [
    {
     "data": {
      "text/plain": [
       "43"
      ]
     },
     "execution_count": 9,
     "metadata": {},
     "output_type": "execute_result"
    }
   ],
   "source": [
    "math.floor(43.1)"
   ]
  },
  {
   "cell_type": "code",
   "execution_count": 10,
   "id": "41546922",
   "metadata": {},
   "outputs": [
    {
     "data": {
      "text/plain": [
       "-45"
      ]
     },
     "execution_count": 10,
     "metadata": {},
     "output_type": "execute_result"
    }
   ],
   "source": [
    "math.floor(-44.5)"
   ]
  },
  {
   "cell_type": "markdown",
   "id": "c93f5731",
   "metadata": {},
   "source": [
    "## exp()\n",
    "exp()\n",
    "exp(x) will return the exponential value of a number x which we pass in argument.\n",
    "\n",
    "**Note:- ** This function will not be accessible directly using exp() method. Math module will be required to access this method."
   ]
  },
  {
   "cell_type": "code",
   "execution_count": 12,
   "id": "6f3fc64d",
   "metadata": {},
   "outputs": [
    {
     "data": {
      "text/plain": [
       "22026.465794806718"
      ]
     },
     "execution_count": 12,
     "metadata": {},
     "output_type": "execute_result"
    }
   ],
   "source": [
    "math.exp(10) # e^10"
   ]
  },
  {
   "cell_type": "markdown",
   "id": "54e7eac7",
   "metadata": {},
   "source": [
    "## fabs()"
   ]
  },
  {
   "cell_type": "code",
   "execution_count": 15,
   "id": "bc0b1bb6",
   "metadata": {},
   "outputs": [
    {
     "data": {
      "text/plain": [
       "10.53"
      ]
     },
     "execution_count": 15,
     "metadata": {},
     "output_type": "execute_result"
    }
   ],
   "source": [
    "math.fabs(10.53)# does not work with complex number"
   ]
  },
  {
   "cell_type": "code",
   "execution_count": 16,
   "id": "bcb47d7a",
   "metadata": {},
   "outputs": [
    {
     "data": {
      "text/plain": [
       "10.0"
      ]
     },
     "execution_count": 16,
     "metadata": {},
     "output_type": "execute_result"
    }
   ],
   "source": [
    "math.fabs(-10)"
   ]
  },
  {
   "cell_type": "markdown",
   "id": "dcd79453",
   "metadata": {},
   "source": [
    "## log(x)"
   ]
  },
  {
   "cell_type": "code",
   "execution_count": 18,
   "id": "d3f47166",
   "metadata": {},
   "outputs": [
    {
     "data": {
      "text/plain": [
       "2.995732273553991"
      ]
     },
     "execution_count": 18,
     "metadata": {},
     "output_type": "execute_result"
    }
   ],
   "source": [
    "math.log(20) # log to the base e (default)"
   ]
  },
  {
   "cell_type": "code",
   "execution_count": 19,
   "id": "13f5df00",
   "metadata": {},
   "outputs": [
    {
     "data": {
      "text/plain": [
       "4.182050142641207"
      ]
     },
     "execution_count": 19,
     "metadata": {},
     "output_type": "execute_result"
    }
   ],
   "source": [
    "math.log(65.5)"
   ]
  },
  {
   "cell_type": "code",
   "execution_count": 20,
   "id": "593e9e15",
   "metadata": {},
   "outputs": [
    {
     "data": {
      "text/plain": [
       "1.0"
      ]
     },
     "execution_count": 20,
     "metadata": {},
     "output_type": "execute_result"
    }
   ],
   "source": [
    "math.log10(10)"
   ]
  },
  {
   "cell_type": "markdown",
   "id": "6c7af239",
   "metadata": {},
   "source": [
    "## Max()"
   ]
  },
  {
   "cell_type": "code",
   "execution_count": 22,
   "id": "11a9eb3f",
   "metadata": {},
   "outputs": [
    {
     "data": {
      "text/plain": [
       "300"
      ]
     },
     "execution_count": 22,
     "metadata": {},
     "output_type": "execute_result"
    }
   ],
   "source": [
    "max(10,12,75,300,23)"
   ]
  },
  {
   "cell_type": "code",
   "execution_count": 23,
   "id": "e389e663",
   "metadata": {},
   "outputs": [
    {
     "data": {
      "text/plain": [
       "-3"
      ]
     },
     "execution_count": 23,
     "metadata": {},
     "output_type": "execute_result"
    }
   ],
   "source": [
    "max(-10,-20,-3,-5)"
   ]
  },
  {
   "cell_type": "markdown",
   "id": "a1b8343c",
   "metadata": {},
   "source": [
    "## Min()"
   ]
  },
  {
   "cell_type": "code",
   "execution_count": 25,
   "id": "af28f568",
   "metadata": {},
   "outputs": [
    {
     "data": {
      "text/plain": [
       "0"
      ]
     },
     "execution_count": 25,
     "metadata": {},
     "output_type": "execute_result"
    }
   ],
   "source": [
    "min(0,100,23,4)"
   ]
  },
  {
   "cell_type": "markdown",
   "id": "dfdff110",
   "metadata": {},
   "source": [
    "## pow()"
   ]
  },
  {
   "cell_type": "code",
   "execution_count": 27,
   "id": "3ba02554",
   "metadata": {},
   "outputs": [
    {
     "data": {
      "text/plain": [
       "32.0"
      ]
     },
     "execution_count": 27,
     "metadata": {},
     "output_type": "execute_result"
    }
   ],
   "source": [
    "import math\n",
    "math.pow(2,5)"
   ]
  },
  {
   "cell_type": "code",
   "execution_count": 28,
   "id": "9b6f3f3d",
   "metadata": {},
   "outputs": [
    {
     "data": {
      "text/plain": [
       "125.0"
      ]
     },
     "execution_count": 28,
     "metadata": {},
     "output_type": "execute_result"
    }
   ],
   "source": [
    "math.pow(5,3)"
   ]
  },
  {
   "cell_type": "code",
   "execution_count": 29,
   "id": "a43a7a60",
   "metadata": {},
   "outputs": [
    {
     "data": {
      "text/plain": [
       "625.0"
      ]
     },
     "execution_count": 29,
     "metadata": {},
     "output_type": "execute_result"
    }
   ],
   "source": [
    "math.pow(-5,4)"
   ]
  },
  {
   "cell_type": "markdown",
   "id": "26b2a367",
   "metadata": {},
   "source": [
    "## sqrt()"
   ]
  },
  {
   "cell_type": "code",
   "execution_count": 33,
   "id": "b8b8e765",
   "metadata": {},
   "outputs": [
    {
     "data": {
      "text/plain": [
       "3.0"
      ]
     },
     "execution_count": 33,
     "metadata": {},
     "output_type": "execute_result"
    }
   ],
   "source": [
    "math.sqrt(9)"
   ]
  },
  {
   "cell_type": "code",
   "execution_count": 34,
   "id": "69c0b346",
   "metadata": {},
   "outputs": [
    {
     "data": {
      "text/plain": [
       "10.04987562112089"
      ]
     },
     "execution_count": 34,
     "metadata": {},
     "output_type": "execute_result"
    }
   ],
   "source": [
    "math.sqrt(101)"
   ]
  },
  {
   "cell_type": "markdown",
   "id": "2673fc92",
   "metadata": {},
   "source": [
    "## Trignometric Functions"
   ]
  },
  {
   "cell_type": "code",
   "execution_count": 36,
   "id": "3dea7cc0",
   "metadata": {},
   "outputs": [
    {
     "data": {
      "text/plain": [
       "-0.8011526357338304"
      ]
     },
     "execution_count": 36,
     "metadata": {},
     "output_type": "execute_result"
    }
   ],
   "source": [
    "import math\n",
    "math.sin(180)"
   ]
  },
  {
   "cell_type": "code",
   "execution_count": 38,
   "id": "4d8458d8",
   "metadata": {},
   "outputs": [
    {
     "data": {
      "text/plain": [
       "-0.4480736161291701"
      ]
     },
     "execution_count": 38,
     "metadata": {},
     "output_type": "execute_result"
    }
   ],
   "source": [
    "math.cos(90)"
   ]
  },
  {
   "cell_type": "code",
   "execution_count": 39,
   "id": "c9f075b2",
   "metadata": {},
   "outputs": [
    {
     "data": {
      "text/plain": [
       "1.6197751905438615"
      ]
     },
     "execution_count": 39,
     "metadata": {},
     "output_type": "execute_result"
    }
   ],
   "source": [
    "math.tan(45)"
   ]
  },
  {
   "cell_type": "code",
   "execution_count": 41,
   "id": "5ee5abcb",
   "metadata": {},
   "outputs": [
    {
     "data": {
      "text/plain": [
       "5.0"
      ]
     },
     "execution_count": 41,
     "metadata": {},
     "output_type": "execute_result"
    }
   ],
   "source": [
    "math.hypot(3,4)"
   ]
  },
  {
   "cell_type": "code",
   "execution_count": null,
   "id": "a1d33711",
   "metadata": {},
   "outputs": [],
   "source": [
    "# Assignment\n",
    "math.modf()\n",
    "## program to check prime number"
   ]
  },
  {
   "cell_type": "code",
   "execution_count": 43,
   "id": "31626325",
   "metadata": {},
   "outputs": [
    {
     "data": {
      "text/plain": [
       "(0.23000000000000398, 100.0)"
      ]
     },
     "execution_count": 43,
     "metadata": {},
     "output_type": "execute_result"
    }
   ],
   "source": [
    "math.modf(100.23)"
   ]
  },
  {
   "cell_type": "code",
   "execution_count": 67,
   "id": "48e10165",
   "metadata": {},
   "outputs": [
    {
     "name": "stdout",
     "output_type": "stream",
     "text": [
      "Enter a number: 4\n",
      "Number is not Prime\n"
     ]
    }
   ],
   "source": [
    "num = int(input('Enter a number: '))\n",
    "if num > 1:\n",
    "    for i in range(2,(num//2)+1):\n",
    "            if (num%i) == 0:\n",
    "                print('Number is not Prime')\n",
    "                break\n",
    "    else:\n",
    "                print('Number is prime')\n",
    "else:\n",
    "    print('Number is not Prime')"
   ]
  },
  {
   "cell_type": "code",
   "execution_count": 69,
   "id": "80dc61d7",
   "metadata": {},
   "outputs": [
    {
     "name": "stdout",
     "output_type": "stream",
     "text": [
      "Enter a number 1: 12\n",
      "Enter a number 2: 2\n",
      "Enter a number 3: 65\n"
     ]
    },
    {
     "data": {
      "text/plain": [
       "65"
      ]
     },
     "execution_count": 69,
     "metadata": {},
     "output_type": "execute_result"
    }
   ],
   "source": [
    "num1= int(input('Enter a number 1: '))\n",
    "num2= int(input('Enter a number 2: '))\n",
    "num3= int(input('Enter a number 3: '))\n",
    "max(num1,num2,num3)"
   ]
  },
  {
   "cell_type": "code",
   "execution_count": null,
   "id": "351aa096",
   "metadata": {},
   "outputs": [],
   "source": []
  }
 ],
 "metadata": {
  "kernelspec": {
   "display_name": "Python 3 (ipykernel)",
   "language": "python",
   "name": "python3"
  },
  "language_info": {
   "codemirror_mode": {
    "name": "ipython",
    "version": 3
   },
   "file_extension": ".py",
   "mimetype": "text/x-python",
   "name": "python",
   "nbconvert_exporter": "python",
   "pygments_lexer": "ipython3",
   "version": "3.9.13"
  }
 },
 "nbformat": 4,
 "nbformat_minor": 5
}
