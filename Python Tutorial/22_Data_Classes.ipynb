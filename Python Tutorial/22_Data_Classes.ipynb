{
 "cells": [
  {
   "cell_type": "markdown",
   "id": "a819114a",
   "metadata": {},
   "source": [
    "## Python Data Classes\n",
    "In Python, the dataclass decorator is a feature introduced in Python 3.7 that provides a concise way to define classes primarily intended to store data. It automatically generates several special methods, such as init, repr, and eq, based on the class attributes you define. This simplifies the process of creating and working with data-focused classes."
   ]
  },
  {
   "cell_type": "code",
   "execution_count": 1,
   "id": "b24daa2f",
   "metadata": {},
   "outputs": [],
   "source": [
    "from dataclasses import dataclass\n",
    "@dataclass\n",
    "class Person:\n",
    "    name:str\n",
    "    age:int\n",
    "    profession:str"
   ]
  },
  {
   "cell_type": "markdown",
   "id": "d32e4b9f",
   "metadata": {},
   "source": [
    "#### The @dataclass decorator automatically generates the following methods for you:\n",
    "\n",
    "* init(): Initializes the object and assigns the provided values to the attributes.\n",
    "* repr(): Provides a string representation of the object.\n",
    "* eq(): Implements equality comparison between two objects of the class based on their attributes."
   ]
  },
  {
   "cell_type": "code",
   "execution_count": 2,
   "id": "7833f937",
   "metadata": {},
   "outputs": [
    {
     "data": {
      "text/plain": [
       "Person(name='Shivaan', age='21', profession='Data Analyst')"
      ]
     },
     "execution_count": 2,
     "metadata": {},
     "output_type": "execute_result"
    }
   ],
   "source": [
    "person1 = Person(\"Shivaan\",\"21\",\"Data Analyst\")\n",
    "person1"
   ]
  },
  {
   "cell_type": "code",
   "execution_count": 3,
   "id": "057827d7",
   "metadata": {},
   "outputs": [
    {
     "data": {
      "text/plain": [
       "'21'"
      ]
     },
     "execution_count": 3,
     "metadata": {},
     "output_type": "execute_result"
    }
   ],
   "source": [
    "person1.age"
   ]
  },
  {
   "cell_type": "code",
   "execution_count": 4,
   "id": "966b61bf",
   "metadata": {},
   "outputs": [],
   "source": [
    "@dataclass\n",
    "class Rectangle:\n",
    "    width:int\n",
    "    height:int\n",
    "    color:str='White'\n",
    "    \n",
    "rectangle1 = Rectangle(12,14)\n",
    "rectangle2 = Rectangle(13,14,'red')"
   ]
  },
  {
   "cell_type": "code",
   "execution_count": 5,
   "id": "be8a1280",
   "metadata": {},
   "outputs": [
    {
     "data": {
      "text/plain": [
       "'red'"
      ]
     },
     "execution_count": 5,
     "metadata": {},
     "output_type": "execute_result"
    }
   ],
   "source": [
    "rectangle2.color"
   ]
  },
  {
   "cell_type": "code",
   "execution_count": 6,
   "id": "3619e022",
   "metadata": {},
   "outputs": [],
   "source": [
    "@dataclass(frozen=True)# values cannot be changed\n",
    "class Point:\n",
    "    x:int\n",
    "    y:int"
   ]
  },
  {
   "cell_type": "code",
   "execution_count": 7,
   "id": "18fb9210",
   "metadata": {},
   "outputs": [],
   "source": [
    "point1 = Point(3,4)"
   ]
  },
  {
   "cell_type": "code",
   "execution_count": 9,
   "id": "a72c9bf9",
   "metadata": {},
   "outputs": [
    {
     "data": {
      "text/plain": [
       "(3, 4)"
      ]
     },
     "execution_count": 9,
     "metadata": {},
     "output_type": "execute_result"
    }
   ],
   "source": [
    "point1.x,point1.y"
   ]
  },
  {
   "cell_type": "code",
   "execution_count": 10,
   "id": "0dc2afe5",
   "metadata": {},
   "outputs": [],
   "source": [
    "## inheritance\n",
    "@dataclass\n",
    "class Person:\n",
    "    name:str\n",
    "    age:int\n",
    "@dataclass\n",
    "class Employee(Person):\n",
    "    employeeID:str\n",
    "    department:str"
   ]
  },
  {
   "cell_type": "code",
   "execution_count": 11,
   "id": "8eb118b4",
   "metadata": {},
   "outputs": [],
   "source": [
    "person1= Person('shivaan','21')\n",
    "employee1 = Employee('shivaan','21','10','Data Analyst')"
   ]
  },
  {
   "cell_type": "code",
   "execution_count": 12,
   "id": "e5372940",
   "metadata": {},
   "outputs": [
    {
     "data": {
      "text/plain": [
       "'shivaan'"
      ]
     },
     "execution_count": 12,
     "metadata": {},
     "output_type": "execute_result"
    }
   ],
   "source": [
    "employee1.name"
   ]
  },
  {
   "cell_type": "code",
   "execution_count": 13,
   "id": "e2063ca6",
   "metadata": {},
   "outputs": [
    {
     "data": {
      "text/plain": [
       "'Data Analyst'"
      ]
     },
     "execution_count": 13,
     "metadata": {},
     "output_type": "execute_result"
    }
   ],
   "source": [
    "employee1.department"
   ]
  },
  {
   "cell_type": "code",
   "execution_count": 35,
   "id": "6f95c514",
   "metadata": {},
   "outputs": [],
   "source": [
    "## nested data classes\n",
    "@dataclass\n",
    "class Address:\n",
    "    street:str\n",
    "    city:str\n",
    "    zip_code:str\n",
    "        \n",
    "@dataclass\n",
    "class Person:\n",
    "    name:str\n",
    "    age:str\n",
    "    address:Address\n"
   ]
  },
  {
   "cell_type": "code",
   "execution_count": 36,
   "id": "69a50b88",
   "metadata": {},
   "outputs": [],
   "source": [
    "address=Address('123 main street','mumbai','12345')"
   ]
  },
  {
   "cell_type": "code",
   "execution_count": 37,
   "id": "5952ebb5",
   "metadata": {},
   "outputs": [],
   "source": [
    "person=Person('Shivaan','21',address)"
   ]
  },
  {
   "cell_type": "code",
   "execution_count": 38,
   "id": "a298c5e8",
   "metadata": {},
   "outputs": [
    {
     "data": {
      "text/plain": [
       "Address(street='123 main street', city='mumbai', zip_code='12345')"
      ]
     },
     "execution_count": 38,
     "metadata": {},
     "output_type": "execute_result"
    }
   ],
   "source": [
    "person.address"
   ]
  },
  {
   "cell_type": "code",
   "execution_count": null,
   "id": "01873abe",
   "metadata": {},
   "outputs": [],
   "source": []
  }
 ],
 "metadata": {
  "kernelspec": {
   "display_name": "Python 3 (ipykernel)",
   "language": "python",
   "name": "python3"
  },
  "language_info": {
   "codemirror_mode": {
    "name": "ipython",
    "version": 3
   },
   "file_extension": ".py",
   "mimetype": "text/x-python",
   "name": "python",
   "nbconvert_exporter": "python",
   "pygments_lexer": "ipython3",
   "version": "3.9.13"
  }
 },
 "nbformat": 4,
 "nbformat_minor": 5
}
