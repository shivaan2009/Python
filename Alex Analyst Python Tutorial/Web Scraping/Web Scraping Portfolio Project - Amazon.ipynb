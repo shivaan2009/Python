{
 "cells": [
  {
   "cell_type": "markdown",
   "id": "ca9c1171",
   "metadata": {},
   "source": [
    "# Amazon Web Scraping Project"
   ]
  },
  {
   "cell_type": "code",
   "execution_count": 105,
   "id": "fed92d52",
   "metadata": {},
   "outputs": [],
   "source": [
    "from bs4 import BeautifulSoup\n",
    "import requests\n",
    "import smtplib\n",
    "import time\n",
    "import datetime"
   ]
  },
  {
   "cell_type": "code",
   "execution_count": 108,
   "id": "ccffc82b",
   "metadata": {},
   "outputs": [
    {
     "name": "stdout",
     "output_type": "stream",
     "text": [
      "Title not found\n"
     ]
    }
   ],
   "source": [
    "URL = 'https://www.amazon.com/Data-Analyst-Programmer-Accountant-T-Shirt/dp/B0C1TCPZG5/ref=sr_1_2?crid=2D6IYXWTH8PFA&dib=eyJ2IjoiMSJ9.K-5Pp6gJVOBwEEHxOoHfEgtIDyMcBaKNU9Iaahe0H409-P-scFa38yMkXzPlRiX9sB8wUz3FXtmc2Cd1Xhp4jR3kjCcww8EnlKBiWKrqTfMB5OlfMjASbZkDAj5nm4IQnyKZ41mTim1Q6CKMq1HP755VLWPJ_uRQcSLKvGiBZDh5lwVP-1IwbI1KVk-pUD5-brklayiDAyPzd1J89A-y-xbpErhGfRcDI4pAwAJc6_77XrPMXW8o7RfjhfT9pzRmw27xBYGXvHBwC4tzOLjgNzejqjFQNC7TPV5vG_bgT6g.qm7keW5WoZQbdR5yE-nc_XoMEfADxim6mWSLXI9t3Ds&dib_tag=se&keywords=data+analyst+shirt&qid=1723363834&sprefix=data+analyst+shirt%2Caps%2C301&sr=8-2'\n",
    "\n",
    "headers = {\"User-Agent\": \"Mozilla/5.0 (Windows NT 10.0; Win64; x64) AppleWebKit/537.36 (KHTML, like Gecko) Chrome/127.0.0.0 Safari/537.36\"}\n",
    "\n",
    "page = requests.get(URL,headers=headers)\n",
    "\n",
    "soup1 = BeautifulSoup(page.content,'html.parser')\n",
    "\n",
    "soup2 = BeautifulSoup(soup1.prettify(),'html.parser')\n",
    "\n",
    "\n",
    "title_element = soup2.find(id='productTitle')\n",
    "if title_element:\n",
    "    title = title_element.get_text(strip=True)\n",
    "else:\n",
    "    title = \"Title not found\"\n",
    "print(title)\n",
    "\n",
    "\n",
    "\n",
    "\n"
   ]
  },
  {
   "cell_type": "code",
   "execution_count": 107,
   "id": "4018c078",
   "metadata": {},
   "outputs": [
    {
     "ename": "AttributeError",
     "evalue": "'NoneType' object has no attribute 'get_text'",
     "output_type": "error",
     "traceback": [
      "\u001b[1;31m---------------------------------------------------------------------------\u001b[0m",
      "\u001b[1;31mAttributeError\u001b[0m                            Traceback (most recent call last)",
      "\u001b[1;32m~\\AppData\\Local\\Temp\\ipykernel_20080\\1727502389.py\u001b[0m in \u001b[0;36m<module>\u001b[1;34m\u001b[0m\n\u001b[1;32m----> 1\u001b[1;33m \u001b[0mtitle\u001b[0m \u001b[1;33m=\u001b[0m \u001b[0msoup2\u001b[0m\u001b[1;33m.\u001b[0m\u001b[0mfind\u001b[0m\u001b[1;33m(\u001b[0m\u001b[0mid\u001b[0m\u001b[1;33m=\u001b[0m\u001b[1;34m'productTitle'\u001b[0m\u001b[1;33m)\u001b[0m\u001b[1;33m.\u001b[0m\u001b[0mget_text\u001b[0m\u001b[1;33m(\u001b[0m\u001b[1;33m)\u001b[0m\u001b[1;33m\u001b[0m\u001b[1;33m\u001b[0m\u001b[0m\n\u001b[0m\u001b[0;32m      2\u001b[0m \u001b[0mprint\u001b[0m\u001b[1;33m(\u001b[0m\u001b[0mtitle\u001b[0m\u001b[1;33m)\u001b[0m\u001b[1;33m\u001b[0m\u001b[1;33m\u001b[0m\u001b[0m\n",
      "\u001b[1;31mAttributeError\u001b[0m: 'NoneType' object has no attribute 'get_text'"
     ]
    }
   ],
   "source": [
    "title = title.strip()\n",
    "print(title)"
   ]
  },
  {
   "cell_type": "code",
   "execution_count": 73,
   "id": "4a35c29b",
   "metadata": {},
   "outputs": [
    {
     "name": "stdout",
     "output_type": "stream",
     "text": [
      "Price: $13.38\n"
     ]
    }
   ],
   "source": [
    "price_element = soup2.find('span', {'class': 'a-offscreen'})\n",
    "if price_element:\n",
    "    price = price_element.get_text(strip=True)\n",
    "else:\n",
    "    price = \"Price not found\"\n",
    "print(\"Price:\", price)"
   ]
  },
  {
   "cell_type": "code",
   "execution_count": 76,
   "id": "0db7ad6e",
   "metadata": {},
   "outputs": [
    {
     "name": "stdout",
     "output_type": "stream",
     "text": [
      "Got Data? Data Analyst Programmer Accountant T-Shirt\n",
      "13.38\n"
     ]
    },
    {
     "data": {
      "text/plain": [
       "str"
      ]
     },
     "execution_count": 76,
     "metadata": {},
     "output_type": "execute_result"
    }
   ],
   "source": [
    "price = price.strip()#[1:]\n",
    "title = title.strip()\n",
    "print(title)\n",
    "print(price)\n",
    "type(price)"
   ]
  },
  {
   "cell_type": "code",
   "execution_count": 81,
   "id": "85b6c9c8",
   "metadata": {},
   "outputs": [
    {
     "name": "stdout",
     "output_type": "stream",
     "text": [
      "2024-08-11\n"
     ]
    }
   ],
   "source": [
    "import datetime\n",
    "\n",
    "today = datetime.date.today()\n",
    "print(today)"
   ]
  },
  {
   "cell_type": "code",
   "execution_count": 82,
   "id": "151a6db9",
   "metadata": {},
   "outputs": [],
   "source": [
    "import csv\n",
    "\n",
    "header = ['Title','Price','Date']\n",
    "data = [title,price,today]\n",
    "type(data)\n",
    "\n",
    "#with open('Amazon_Web_Scrapper_Dataset.csv','w',newline='',encoding='UTF8') as f:\n",
    " #   writer = csv.writer(f)\n",
    "  #  writer.writerow(header)\n",
    "   # writer.writerow(data)\n",
    "\n"
   ]
  },
  {
   "cell_type": "code",
   "execution_count": null,
   "id": "ad99368d",
   "metadata": {},
   "outputs": [],
   "source": [
    "import pandas as pd\n",
    "df = pd.read_csv(r\"C:\\Users\\shiva\\jupyter\\Alex Analyst Python\\Web Scraping\\Amazon_Web_Scrapper_Dataset.csv\")\n",
    "print(df)"
   ]
  },
  {
   "cell_type": "code",
   "execution_count": 87,
   "id": "512a2ba9",
   "metadata": {},
   "outputs": [],
   "source": [
    "# now appending data to the csv\n",
    "with open('Amazon_Web_Scrapper_Dataset.csv','a+',newline='',encoding='UTF8') as f:\n",
    "    writer = csv.writer(f)\n",
    "    writer.writerow(data)"
   ]
  },
  {
   "cell_type": "code",
   "execution_count": null,
   "id": "3ced38a1",
   "metadata": {},
   "outputs": [],
   "source": [
    "def check_price():\n",
    "    URL = 'https://www.amazon.com/Data-Analyst-Programmer-Accountant-T-Shirt/dp/B0C1TCPZG5/ref=sr_1_2?crid=2D6IYXWTH8PFA&dib=eyJ2IjoiMSJ9.K-5Pp6gJVOBwEEHxOoHfEgtIDyMcBaKNU9Iaahe0H409-P-scFa38yMkXzPlRiX9sB8wUz3FXtmc2Cd1Xhp4jR3kjCcww8EnlKBiWKrqTfMB5OlfMjASbZkDAj5nm4IQnyKZ41mTim1Q6CKMq1HP755VLWPJ_uRQcSLKvGiBZDh5lwVP-1IwbI1KVk-pUD5-brklayiDAyPzd1J89A-y-xbpErhGfRcDI4pAwAJc6_77XrPMXW8o7RfjhfT9pzRmw27xBYGXvHBwC4tzOLjgNzejqjFQNC7TPV5vG_bgT6g.qm7keW5WoZQbdR5yE-nc_XoMEfADxim6mWSLXI9t3Ds&dib_tag=se&keywords=data+analyst+shirt&qid=1723363834&sprefix=data+analyst+shirt%2Caps%2C301&sr=8-2'\n",
    "\n",
    "    headers = {\"User-Agent\": \"Mozilla/5.0 (Windows NT 10.0; Win64; x64) AppleWebKit/537.36 (KHTML, like Gecko) Chrome/127.0.0.0 Safari/537.36\"}\n",
    "\n",
    "    page = requests.get(URL,headers=headers)\n",
    "\n",
    "    soup1 = BeautifulSoup(page.content,'html.parser')\n",
    "\n",
    "    soup2 = BeautifulSoup(soup1.prettify(),'html.parser')\n",
    "    \n",
    "    title_element = soup2.find(id='productTitle')\n",
    "    if title_element:\n",
    "        title = title_element.get_text(strip=True)\n",
    "    else:\n",
    "        title = \"Title not found\"\n",
    "    \n",
    "    price = soup2.find('span', {'class': 'a-offscreen'}).get_text()\n",
    "    \n",
    "    price = price.strip()[1:]\n",
    "    \n",
    "    \n",
    "    import datetime\n",
    "\n",
    "    today = datetime.date.today()\n",
    "    \n",
    "    import csv\n",
    "\n",
    "    header = ['Title','Price','Date']\n",
    "    data = [title,price,today]\n",
    "\n",
    "    with open('Amazon_Web_Scrapper_Dataset.csv','a+',newline='',encoding='UTF8') as f:\n",
    "        writer = csv.writer(f)\n",
    "        writer.writerow(data)\n",
    "    \n",
    "\n",
    "    "
   ]
  },
  {
   "cell_type": "code",
   "execution_count": null,
   "id": "6f711f4c",
   "metadata": {},
   "outputs": [],
   "source": [
    "while(True):\n",
    "    check_price()\n",
    "    time.sleep(10)"
   ]
  },
  {
   "cell_type": "code",
   "execution_count": null,
   "id": "25ca0607",
   "metadata": {},
   "outputs": [],
   "source": [
    "import pandas as pd\n",
    "df = pd.read_csv(r\"C:\\Users\\shiva\\jupyter\\Alex Analyst Python\\Web Scraping\\Amazon_Web_Scrapper_Dataset.csv\")\n",
    "print(df)"
   ]
  },
  {
   "cell_type": "code",
   "execution_count": null,
   "id": "94e4d0a9",
   "metadata": {},
   "outputs": [],
   "source": []
  }
 ],
 "metadata": {
  "kernelspec": {
   "display_name": "Python 3 (ipykernel)",
   "language": "python",
   "name": "python3"
  },
  "language_info": {
   "codemirror_mode": {
    "name": "ipython",
    "version": 3
   },
   "file_extension": ".py",
   "mimetype": "text/x-python",
   "name": "python",
   "nbconvert_exporter": "python",
   "pygments_lexer": "ipython3",
   "version": "3.9.13"
  }
 },
 "nbformat": 4,
 "nbformat_minor": 5
}
