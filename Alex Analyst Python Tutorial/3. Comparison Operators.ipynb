{
 "cells": [
  {
   "cell_type": "markdown",
   "id": "246cdd61",
   "metadata": {},
   "source": [
    "### Comparison Operators\n",
    "\n",
    "Comparison operators compare two values and determine the relation between them.\n",
    "\n",
    "| Operator | Name                  | Example |\n",
    "|----------|-----------------------|---------|\n",
    "| ==       | Equal to              | x == y  |\n",
    "| !=       | Not equal to          | x != y  |\n",
    "| >        | Greater than          | x > y   |\n",
    "| <        | Less than             | x < y   |\n",
    "| >=       | Greater than or equal | x >= y  |\n",
    "| <=       | Less than or equal    | x <= y  |"
   ]
  },
  {
   "cell_type": "code",
   "execution_count": 2,
   "id": "0c5184fa",
   "metadata": {},
   "outputs": [
    {
     "data": {
      "text/plain": [
       "False"
      ]
     },
     "execution_count": 2,
     "metadata": {},
     "output_type": "execute_result"
    }
   ],
   "source": [
    "10 == 50"
   ]
  },
  {
   "cell_type": "code",
   "execution_count": 3,
   "id": "6d812a1b",
   "metadata": {},
   "outputs": [
    {
     "data": {
      "text/plain": [
       "True"
      ]
     },
     "execution_count": 3,
     "metadata": {},
     "output_type": "execute_result"
    }
   ],
   "source": [
    "10 != 50"
   ]
  },
  {
   "cell_type": "code",
   "execution_count": 4,
   "id": "6506e5ec",
   "metadata": {},
   "outputs": [
    {
     "data": {
      "text/plain": [
       "False"
      ]
     },
     "execution_count": 4,
     "metadata": {},
     "output_type": "execute_result"
    }
   ],
   "source": [
    "'Vanilla' == 'Chocolate'"
   ]
  },
  {
   "cell_type": "code",
   "execution_count": 5,
   "id": "0e1f8a3d",
   "metadata": {},
   "outputs": [
    {
     "data": {
      "text/plain": [
       "True"
      ]
     },
     "execution_count": 5,
     "metadata": {},
     "output_type": "execute_result"
    }
   ],
   "source": [
    "x = 'Vanilla'\n",
    "y = 'Chocolate'\n",
    "x != y"
   ]
  },
  {
   "cell_type": "code",
   "execution_count": 7,
   "id": "be90f6bb",
   "metadata": {},
   "outputs": [
    {
     "data": {
      "text/plain": [
       "True"
      ]
     },
     "execution_count": 7,
     "metadata": {},
     "output_type": "execute_result"
    }
   ],
   "source": [
    "10 <= 10"
   ]
  },
  {
   "cell_type": "code",
   "execution_count": 8,
   "id": "1cb085f0",
   "metadata": {},
   "outputs": [
    {
     "data": {
      "text/plain": [
       "True"
      ]
     },
     "execution_count": 8,
     "metadata": {},
     "output_type": "execute_result"
    }
   ],
   "source": [
    "50 >= 10"
   ]
  },
  {
   "cell_type": "markdown",
   "id": "c0414361",
   "metadata": {},
   "source": [
    "### Logical Operators\n",
    "\n",
    "Logical operators connect two or more conditions and evaluate the truth or falsity of the conditions combined.\n",
    "\n",
    "| Operator | Name     | Example |\n",
    "|----------|----------|---------|\n",
    "| and      | Logical AND | x and y |\n",
    "| or       | Logical OR  | x or y  |\n",
    "| not      | Logical NOT | not x   |"
   ]
  },
  {
   "cell_type": "code",
   "execution_count": 10,
   "id": "0d8dbe7d",
   "metadata": {},
   "outputs": [
    {
     "data": {
      "text/plain": [
       "True"
      ]
     },
     "execution_count": 10,
     "metadata": {},
     "output_type": "execute_result"
    }
   ],
   "source": [
    "(70 > 50) and (50 > 10)"
   ]
  },
  {
   "cell_type": "code",
   "execution_count": 11,
   "id": "23ea1e3d",
   "metadata": {},
   "outputs": [
    {
     "data": {
      "text/plain": [
       "True"
      ]
     },
     "execution_count": 11,
     "metadata": {},
     "output_type": "execute_result"
    }
   ],
   "source": [
    "(10 > 50) or (50 > 10)"
   ]
  },
  {
   "cell_type": "code",
   "execution_count": 13,
   "id": "71ed2cf3",
   "metadata": {},
   "outputs": [
    {
     "data": {
      "text/plain": [
       "True"
      ]
     },
     "execution_count": 13,
     "metadata": {},
     "output_type": "execute_result"
    }
   ],
   "source": [
    "(\"Vanilla\" > 'Chocolate') and (50 > 10)"
   ]
  },
  {
   "cell_type": "code",
   "execution_count": 14,
   "id": "50de2f13",
   "metadata": {},
   "outputs": [
    {
     "data": {
      "text/plain": [
       "False"
      ]
     },
     "execution_count": 14,
     "metadata": {},
     "output_type": "execute_result"
    }
   ],
   "source": [
    "not(50 > 10)"
   ]
  },
  {
   "cell_type": "markdown",
   "id": "82861a6c",
   "metadata": {},
   "source": [
    "### Membership Operators\n",
    "\n",
    "Membership operators test for membership in a sequence, such as strings, lists, or tuples.\n",
    "\n",
    "| Operator | Name            | Example   |\n",
    "|----------|-----------------|-----------|\n",
    "| in       | Membership      | x in y    |\n",
    "| not in   | Not membership  | x not in y|"
   ]
  },
  {
   "cell_type": "code",
   "execution_count": 15,
   "id": "f583007d",
   "metadata": {},
   "outputs": [
    {
     "data": {
      "text/plain": [
       "True"
      ]
     },
     "execution_count": 15,
     "metadata": {},
     "output_type": "execute_result"
    }
   ],
   "source": [
    "ice_Cream = 'I love chocolate ice-cream'\n",
    "'love' in ice_Cream"
   ]
  },
  {
   "cell_type": "code",
   "execution_count": 18,
   "id": "a28f5186",
   "metadata": {},
   "outputs": [
    {
     "data": {
      "text/plain": [
       "True"
      ]
     },
     "execution_count": 18,
     "metadata": {},
     "output_type": "execute_result"
    }
   ],
   "source": [
    "scoops = [1,2,3,4,5]\n",
    "wanted_scoops = 8\n",
    "wanted_scoops not in scoops"
   ]
  },
  {
   "cell_type": "code",
   "execution_count": null,
   "id": "de6f87bf",
   "metadata": {},
   "outputs": [],
   "source": []
  }
 ],
 "metadata": {
  "kernelspec": {
   "display_name": "Python 3 (ipykernel)",
   "language": "python",
   "name": "python3"
  },
  "language_info": {
   "codemirror_mode": {
    "name": "ipython",
    "version": 3
   },
   "file_extension": ".py",
   "mimetype": "text/x-python",
   "name": "python",
   "nbconvert_exporter": "python",
   "pygments_lexer": "ipython3",
   "version": "3.9.13"
  }
 },
 "nbformat": 4,
 "nbformat_minor": 5
}
