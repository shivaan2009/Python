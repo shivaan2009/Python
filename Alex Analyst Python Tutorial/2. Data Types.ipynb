{
 "cells": [
  {
   "cell_type": "markdown",
   "id": "31d26239",
   "metadata": {},
   "source": [
    "# Data Types"
   ]
  },
  {
   "cell_type": "markdown",
   "id": "7da11bb4",
   "metadata": {},
   "source": [
    "### 1. Integers"
   ]
  },
  {
   "cell_type": "code",
   "execution_count": 1,
   "id": "afa2b240",
   "metadata": {},
   "outputs": [
    {
     "data": {
      "text/plain": [
       "int"
      ]
     },
     "execution_count": 1,
     "metadata": {},
     "output_type": "execute_result"
    }
   ],
   "source": [
    "type(12)"
   ]
  },
  {
   "cell_type": "code",
   "execution_count": 2,
   "id": "b856d254",
   "metadata": {},
   "outputs": [
    {
     "data": {
      "text/plain": [
       "float"
      ]
     },
     "execution_count": 2,
     "metadata": {},
     "output_type": "execute_result"
    }
   ],
   "source": [
    "type(12+10.25)"
   ]
  },
  {
   "cell_type": "code",
   "execution_count": 3,
   "id": "e0832f4f",
   "metadata": {},
   "outputs": [
    {
     "data": {
      "text/plain": [
       "complex"
      ]
     },
     "execution_count": 3,
     "metadata": {},
     "output_type": "execute_result"
    }
   ],
   "source": [
    "type(12+3j)"
   ]
  },
  {
   "cell_type": "markdown",
   "id": "0dbb76ff",
   "metadata": {},
   "source": [
    "### 2. Boolean"
   ]
  },
  {
   "cell_type": "code",
   "execution_count": 5,
   "id": "a855b804",
   "metadata": {},
   "outputs": [
    {
     "data": {
      "text/plain": [
       "bool"
      ]
     },
     "execution_count": 5,
     "metadata": {},
     "output_type": "execute_result"
    }
   ],
   "source": [
    "type(True)"
   ]
  },
  {
   "cell_type": "code",
   "execution_count": 6,
   "id": "378bce01",
   "metadata": {},
   "outputs": [
    {
     "data": {
      "text/plain": [
       "bool"
      ]
     },
     "execution_count": 6,
     "metadata": {},
     "output_type": "execute_result"
    }
   ],
   "source": [
    "type(1>5)"
   ]
  },
  {
   "cell_type": "code",
   "execution_count": 7,
   "id": "42f00ee3",
   "metadata": {},
   "outputs": [
    {
     "data": {
      "text/plain": [
       "False"
      ]
     },
     "execution_count": 7,
     "metadata": {},
     "output_type": "execute_result"
    }
   ],
   "source": [
    "1 > 3"
   ]
  },
  {
   "cell_type": "code",
   "execution_count": 8,
   "id": "9768b10e",
   "metadata": {},
   "outputs": [
    {
     "data": {
      "text/plain": [
       "True"
      ]
     },
     "execution_count": 8,
     "metadata": {},
     "output_type": "execute_result"
    }
   ],
   "source": [
    "1 == 1"
   ]
  },
  {
   "cell_type": "markdown",
   "id": "2c0c47a6",
   "metadata": {},
   "source": [
    "### 3. Sequence"
   ]
  },
  {
   "cell_type": "code",
   "execution_count": 10,
   "id": "b34dc581",
   "metadata": {},
   "outputs": [
    {
     "data": {
      "text/plain": [
       "'Single quote'"
      ]
     },
     "execution_count": 10,
     "metadata": {},
     "output_type": "execute_result"
    }
   ],
   "source": [
    "# Strings\n",
    "'Single quote'\n"
   ]
  },
  {
   "cell_type": "code",
   "execution_count": 11,
   "id": "dd5693a5",
   "metadata": {},
   "outputs": [
    {
     "data": {
      "text/plain": [
       "'Double quote'"
      ]
     },
     "execution_count": 11,
     "metadata": {},
     "output_type": "execute_result"
    }
   ],
   "source": [
    "\"Double quote\""
   ]
  },
  {
   "cell_type": "code",
   "execution_count": 15,
   "id": "47a1ddab",
   "metadata": {},
   "outputs": [],
   "source": [
    "multiline = \"\"\"\n",
    "In this you can write\n",
    "multiple lines for string\n",
    "\"\"\""
   ]
  },
  {
   "cell_type": "code",
   "execution_count": 16,
   "id": "f018ebce",
   "metadata": {},
   "outputs": [
    {
     "name": "stdout",
     "output_type": "stream",
     "text": [
      "\n",
      "In this you can write\n",
      "multiple lines for string\n",
      "\n"
     ]
    }
   ],
   "source": [
    "print(multiline)"
   ]
  },
  {
   "cell_type": "code",
   "execution_count": 17,
   "id": "af6469c2",
   "metadata": {},
   "outputs": [
    {
     "data": {
      "text/plain": [
       "str"
      ]
     },
     "execution_count": 17,
     "metadata": {},
     "output_type": "execute_result"
    }
   ],
   "source": [
    "type(multiline)"
   ]
  },
  {
   "cell_type": "code",
   "execution_count": 18,
   "id": "e63d8c22",
   "metadata": {},
   "outputs": [],
   "source": [
    "a = 'Hello World'"
   ]
  },
  {
   "cell_type": "code",
   "execution_count": 23,
   "id": "3a8d9979",
   "metadata": {},
   "outputs": [
    {
     "name": "stdout",
     "output_type": "stream",
     "text": [
      "llo\n"
     ]
    }
   ],
   "source": [
    "print(a[2:5])"
   ]
  },
  {
   "cell_type": "code",
   "execution_count": 24,
   "id": "006411cc",
   "metadata": {},
   "outputs": [
    {
     "data": {
      "text/plain": [
       "'Hello WorldHello WorldHello World'"
      ]
     },
     "execution_count": 24,
     "metadata": {},
     "output_type": "execute_result"
    }
   ],
   "source": [
    "a*3"
   ]
  },
  {
   "cell_type": "code",
   "execution_count": 25,
   "id": "a668d702",
   "metadata": {},
   "outputs": [
    {
     "data": {
      "text/plain": [
       "'Hello WorldHello World'"
      ]
     },
     "execution_count": 25,
     "metadata": {},
     "output_type": "execute_result"
    }
   ],
   "source": [
    "a + a"
   ]
  },
  {
   "cell_type": "code",
   "execution_count": 26,
   "id": "58e17d1c",
   "metadata": {},
   "outputs": [
    {
     "data": {
      "text/plain": [
       "[1, 2, 3]"
      ]
     },
     "execution_count": 26,
     "metadata": {},
     "output_type": "execute_result"
    }
   ],
   "source": [
    "# Lists\n",
    "\n",
    "[1,2,3]"
   ]
  },
  {
   "cell_type": "code",
   "execution_count": 27,
   "id": "02f182d8",
   "metadata": {},
   "outputs": [
    {
     "data": {
      "text/plain": [
       "['cookie', 'strawberry', 'chocolate']"
      ]
     },
     "execution_count": 27,
     "metadata": {},
     "output_type": "execute_result"
    }
   ],
   "source": [
    "['cookie','strawberry','chocolate']"
   ]
  },
  {
   "cell_type": "code",
   "execution_count": 28,
   "id": "6ca0bae0",
   "metadata": {},
   "outputs": [
    {
     "data": {
      "text/plain": [
       "['Vanilla', 3, ['scoops', 'spoon'], True]"
      ]
     },
     "execution_count": 28,
     "metadata": {},
     "output_type": "execute_result"
    }
   ],
   "source": [
    "['Vanilla',3,['scoops','spoon'],True]"
   ]
  },
  {
   "cell_type": "code",
   "execution_count": 29,
   "id": "20a8bd7a",
   "metadata": {},
   "outputs": [
    {
     "data": {
      "text/plain": [
       "['cookie', 'strawberry', 'chocolate', 'Salted Caramel']"
      ]
     },
     "execution_count": 29,
     "metadata": {},
     "output_type": "execute_result"
    }
   ],
   "source": [
    "ice_cream = ['cookie','strawberry','chocolate']\n",
    "ice_cream.append('Salted Caramel')\n",
    "ice_cream"
   ]
  },
  {
   "cell_type": "code",
   "execution_count": 30,
   "id": "d8573066",
   "metadata": {},
   "outputs": [],
   "source": [
    "ice_cream[0] = 'Butterscotch'"
   ]
  },
  {
   "cell_type": "code",
   "execution_count": 31,
   "id": "2ccc5ccb",
   "metadata": {},
   "outputs": [
    {
     "data": {
      "text/plain": [
       "['Butterscotch', 'strawberry', 'chocolate', 'Salted Caramel']"
      ]
     },
     "execution_count": 31,
     "metadata": {},
     "output_type": "execute_result"
    }
   ],
   "source": [
    "ice_cream"
   ]
  },
  {
   "cell_type": "code",
   "execution_count": 32,
   "id": "40316882",
   "metadata": {},
   "outputs": [],
   "source": [
    "nest_list = ['Vanilla',3,['scoops','spoon'],True]"
   ]
  },
  {
   "cell_type": "code",
   "execution_count": 33,
   "id": "fa9c4caf",
   "metadata": {},
   "outputs": [
    {
     "data": {
      "text/plain": [
       "['Vanilla', 3, ['scoops', 'spoon'], True]"
      ]
     },
     "execution_count": 33,
     "metadata": {},
     "output_type": "execute_result"
    }
   ],
   "source": [
    "nest_list"
   ]
  },
  {
   "cell_type": "code",
   "execution_count": 34,
   "id": "8244e3f7",
   "metadata": {},
   "outputs": [
    {
     "data": {
      "text/plain": [
       "'spoon'"
      ]
     },
     "execution_count": 34,
     "metadata": {},
     "output_type": "execute_result"
    }
   ],
   "source": [
    "nest_list[2][1]"
   ]
  },
  {
   "cell_type": "code",
   "execution_count": 35,
   "id": "ef1f06d0",
   "metadata": {},
   "outputs": [
    {
     "data": {
      "text/plain": [
       "tuple"
      ]
     },
     "execution_count": 35,
     "metadata": {},
     "output_type": "execute_result"
    }
   ],
   "source": [
    "# Tuple\n",
    "\n",
    "tuple_scoops = (1,2,3,2,1)\n",
    "type(tuple_scoops)"
   ]
  },
  {
   "cell_type": "code",
   "execution_count": 36,
   "id": "3bf8b936",
   "metadata": {},
   "outputs": [
    {
     "data": {
      "text/plain": [
       "1"
      ]
     },
     "execution_count": 36,
     "metadata": {},
     "output_type": "execute_result"
    }
   ],
   "source": [
    "tuple_scoops[0]"
   ]
  },
  {
   "cell_type": "code",
   "execution_count": 37,
   "id": "c0eb3f8d",
   "metadata": {},
   "outputs": [
    {
     "ename": "AttributeError",
     "evalue": "'tuple' object has no attribute 'append'",
     "output_type": "error",
     "traceback": [
      "\u001b[1;31m---------------------------------------------------------------------------\u001b[0m",
      "\u001b[1;31mAttributeError\u001b[0m                            Traceback (most recent call last)",
      "\u001b[1;32m~\\AppData\\Local\\Temp\\ipykernel_15656\\174015282.py\u001b[0m in \u001b[0;36m<module>\u001b[1;34m\u001b[0m\n\u001b[1;32m----> 1\u001b[1;33m \u001b[0mtuple_scoops\u001b[0m\u001b[1;33m.\u001b[0m\u001b[0mappend\u001b[0m\u001b[1;33m(\u001b[0m\u001b[1;36m3\u001b[0m\u001b[1;33m)\u001b[0m\u001b[1;33m\u001b[0m\u001b[1;33m\u001b[0m\u001b[0m\n\u001b[0m",
      "\u001b[1;31mAttributeError\u001b[0m: 'tuple' object has no attribute 'append'"
     ]
    }
   ],
   "source": [
    "tuple_scoops.append(3) # because tuple are immutable"
   ]
  },
  {
   "cell_type": "code",
   "execution_count": 38,
   "id": "ae463482",
   "metadata": {},
   "outputs": [],
   "source": [
    "# Sets = sames as list but cannot have duplicate elements\n",
    "\n",
    "daily_pints = {1,2,3}\n",
    "\n"
   ]
  },
  {
   "cell_type": "code",
   "execution_count": 39,
   "id": "6bb1bdb5",
   "metadata": {},
   "outputs": [
    {
     "data": {
      "text/plain": [
       "set"
      ]
     },
     "execution_count": 39,
     "metadata": {},
     "output_type": "execute_result"
    }
   ],
   "source": [
    "type(daily_pints)"
   ]
  },
  {
   "cell_type": "code",
   "execution_count": 40,
   "id": "e6795127",
   "metadata": {},
   "outputs": [
    {
     "name": "stdout",
     "output_type": "stream",
     "text": [
      "{1, 2, 4, 5, 6, 7, 31}\n"
     ]
    }
   ],
   "source": [
    "daily_pint_log = {1,1,2,31,5,6,4,5,7}\n",
    "print(daily_pint_log)"
   ]
  },
  {
   "cell_type": "code",
   "execution_count": 43,
   "id": "c0b064c8",
   "metadata": {},
   "outputs": [],
   "source": [
    "wife_daily_log = {1,23,5,2,12,2,5,2,4,5}"
   ]
  },
  {
   "cell_type": "code",
   "execution_count": 44,
   "id": "59e4f0ca",
   "metadata": {},
   "outputs": [
    {
     "name": "stdout",
     "output_type": "stream",
     "text": [
      "{1, 2, 4, 5, 6, 7, 12, 23, 31}\n"
     ]
    }
   ],
   "source": [
    "print(daily_pint_log | wife_daily_log)"
   ]
  },
  {
   "cell_type": "code",
   "execution_count": 45,
   "id": "859820d4",
   "metadata": {},
   "outputs": [
    {
     "name": "stdout",
     "output_type": "stream",
     "text": [
      "{1, 2, 4, 5}\n"
     ]
    }
   ],
   "source": [
    "print(daily_pint_log & wife_daily_log)"
   ]
  },
  {
   "cell_type": "code",
   "execution_count": 46,
   "id": "f3a322f1",
   "metadata": {},
   "outputs": [
    {
     "name": "stdout",
     "output_type": "stream",
     "text": [
      "{31, 6, 7}\n"
     ]
    }
   ],
   "source": [
    "print(daily_pint_log - wife_daily_log)"
   ]
  },
  {
   "cell_type": "code",
   "execution_count": 47,
   "id": "e6d8187b",
   "metadata": {},
   "outputs": [
    {
     "name": "stdout",
     "output_type": "stream",
     "text": [
      "{12, 23}\n"
     ]
    }
   ],
   "source": [
    "print(wife_daily_log - daily_pint_log)"
   ]
  },
  {
   "cell_type": "code",
   "execution_count": 48,
   "id": "9ab717b6",
   "metadata": {},
   "outputs": [
    {
     "name": "stdout",
     "output_type": "stream",
     "text": [
      "{6, 7, 12, 23, 31}\n"
     ]
    }
   ],
   "source": [
    "print(wife_daily_log ^ daily_pint_log)"
   ]
  },
  {
   "cell_type": "code",
   "execution_count": 49,
   "id": "9eb4c485",
   "metadata": {},
   "outputs": [],
   "source": [
    "# Dictionaries\n",
    "# Key/Value pair\n",
    "\n",
    "dict_cream = {'name':'Shivaan','weekly intake': 5,'Favorite ice cream':['MCC','Chocolate']}"
   ]
  },
  {
   "cell_type": "code",
   "execution_count": 50,
   "id": "baa5c84f",
   "metadata": {},
   "outputs": [
    {
     "data": {
      "text/plain": [
       "dict"
      ]
     },
     "execution_count": 50,
     "metadata": {},
     "output_type": "execute_result"
    }
   ],
   "source": [
    "type(dict_cream)"
   ]
  },
  {
   "cell_type": "code",
   "execution_count": 51,
   "id": "d09b8d89",
   "metadata": {},
   "outputs": [
    {
     "name": "stdout",
     "output_type": "stream",
     "text": [
      "{'name': 'Shivaan', 'weekly intake': 5, 'Favorite ice cream': ['MCC', 'Chocolate']}\n"
     ]
    }
   ],
   "source": [
    "print(dict_cream)"
   ]
  },
  {
   "cell_type": "code",
   "execution_count": 52,
   "id": "3ee7da31",
   "metadata": {},
   "outputs": [
    {
     "data": {
      "text/plain": [
       "dict_values(['Shivaan', 5, ['MCC', 'Chocolate']])"
      ]
     },
     "execution_count": 52,
     "metadata": {},
     "output_type": "execute_result"
    }
   ],
   "source": [
    "dict_cream.values()"
   ]
  },
  {
   "cell_type": "code",
   "execution_count": 53,
   "id": "0bf98284",
   "metadata": {},
   "outputs": [
    {
     "data": {
      "text/plain": [
       "dict_keys(['name', 'weekly intake', 'Favorite ice cream'])"
      ]
     },
     "execution_count": 53,
     "metadata": {},
     "output_type": "execute_result"
    }
   ],
   "source": [
    "dict_cream.keys()"
   ]
  },
  {
   "cell_type": "code",
   "execution_count": 54,
   "id": "35804884",
   "metadata": {},
   "outputs": [
    {
     "data": {
      "text/plain": [
       "dict_items([('name', 'Shivaan'), ('weekly intake', 5), ('Favorite ice cream', ['MCC', 'Chocolate'])])"
      ]
     },
     "execution_count": 54,
     "metadata": {},
     "output_type": "execute_result"
    }
   ],
   "source": [
    "dict_cream.items()"
   ]
  },
  {
   "cell_type": "code",
   "execution_count": 55,
   "id": "88c226c3",
   "metadata": {},
   "outputs": [
    {
     "data": {
      "text/plain": [
       "'Shivaan'"
      ]
     },
     "execution_count": 55,
     "metadata": {},
     "output_type": "execute_result"
    }
   ],
   "source": [
    "dict_cream['name']"
   ]
  },
  {
   "cell_type": "code",
   "execution_count": 56,
   "id": "0c38c49e",
   "metadata": {},
   "outputs": [
    {
     "name": "stdout",
     "output_type": "stream",
     "text": [
      "{'name': 'Alex', 'weekly intake': 5, 'Favorite ice cream': ['MCC', 'Chocolate']}\n"
     ]
    }
   ],
   "source": [
    "dict_cream['name'] = 'Alex'\n",
    "print(dict_cream)"
   ]
  },
  {
   "cell_type": "code",
   "execution_count": 58,
   "id": "87212b4c",
   "metadata": {},
   "outputs": [
    {
     "name": "stdout",
     "output_type": "stream",
     "text": [
      "{'name': 'Alex', 'weekly intake': 10, 'Favorite ice cream': ['MCC', 'Chocolate'], 'weight': 80}\n"
     ]
    }
   ],
   "source": [
    "dict_cream.update({'name': 'Alex', 'weekly intake': 10, 'weight': 80})\n",
    "print(dict_cream)"
   ]
  },
  {
   "cell_type": "code",
   "execution_count": 59,
   "id": "084221d7",
   "metadata": {},
   "outputs": [
    {
     "name": "stdout",
     "output_type": "stream",
     "text": [
      "{'name': 'Alex', 'weekly intake': 10, 'Favorite ice cream': ['MCC', 'Chocolate']}\n"
     ]
    }
   ],
   "source": [
    "del dict_cream['weight']\n",
    "print(dict_cream)"
   ]
  },
  {
   "cell_type": "code",
   "execution_count": null,
   "id": "dd21146e",
   "metadata": {},
   "outputs": [],
   "source": []
  }
 ],
 "metadata": {
  "kernelspec": {
   "display_name": "Python 3 (ipykernel)",
   "language": "python",
   "name": "python3"
  },
  "language_info": {
   "codemirror_mode": {
    "name": "ipython",
    "version": 3
   },
   "file_extension": ".py",
   "mimetype": "text/x-python",
   "name": "python",
   "nbconvert_exporter": "python",
   "pygments_lexer": "ipython3",
   "version": "3.9.13"
  }
 },
 "nbformat": 4,
 "nbformat_minor": 5
}
